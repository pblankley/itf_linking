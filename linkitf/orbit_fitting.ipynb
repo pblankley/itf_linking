{
 "cells": [
  {
   "cell_type": "code",
   "execution_count": 22,
   "metadata": {},
   "outputs": [],
   "source": [
    "import numpy as np\n",
    "import matplotlib.pyplot as plt\n",
    "import clustering as cl\n",
    "import util\n",
    "import healpy as hp\n",
    "import importlib as imp\n",
    "from collections import defaultdict\n",
    "\n",
    "%matplotlib inline "
   ]
  },
  {
   "cell_type": "code",
   "execution_count": 2,
   "metadata": {},
   "outputs": [],
   "source": [
    "# Global parameters\n",
    "gs = [0.4]\n",
    "gdots = [-0.004, -0.002, 0.0, 0.002, 0.004]\n",
    "g_gdots = [(x,y) for x in gs for y in gdots]\n",
    "\n",
    "nside=8\n",
    "n = -14\n",
    "dt=15.0\n",
    "cr=0.00124\n",
    "pixels=range(hp.nside2npix(nside))\n",
    "\n",
    "train_path = 'demo_train/UnnObs_Training_1_line_A_ec_labelled_2457308.5_pm15.0_r2.5.trans'\n",
    "itf_path = 'demo_itf/itf_new_1_line_ec_2457308.5_pm15.0_r2.5.trans'\n"
   ]
  },
  {
   "cell_type": "code",
   "execution_count": 307,
   "metadata": {},
   "outputs": [],
   "source": [
    "# cl.generate_sky_region_files('ryan_data_itf/itf_new_1_line_ec_2457308.5_pm15.0_r2.5.trans', pixels, nside, n)"
   ]
  },
  {
   "cell_type": "code",
   "execution_count": 9,
   "metadata": {},
   "outputs": [
    {
     "name": "stdout",
     "output_type": "stream",
     "text": [
      "True count of clusters: 890\n",
      "Starting run...\n",
      "100%\n",
      "\n",
      "Run finished!\n",
      "Using our optimal parameters we got 0.7842696629213484 percent of clusters with 0.0056179775280898875 percent errors.\n",
      "We got 698 right and 5 wrong out of total 890\n"
     ]
    }
   ],
   "source": [
    "true_count_set, mergedCounter_dict, mergedTime_dict = cl.accessible_clusters(pixels, infilename=train_path)\n",
    "true_count = len(true_count_set)\n",
    "print('True count of clusters: {}'.format(true_count))\n",
    "\n",
    "right, wrong, ids_right, ids_wrong = cl.test_clusters(pixels, train_path, util.lunation_center(n), \\\n",
    "                                                    dt=dt,rad=cr)\n",
    "\n",
    "print('Using our optimal parameters we got {0} percent of clusters with {1} percent errors.'.format(right/true_count,wrong/true_count))\n",
    "print('We got',right,'right and',wrong,'wrong out of total',true_count)"
   ]
  },
  {
   "cell_type": "code",
   "execution_count": 18,
   "metadata": {},
   "outputs": [
    {
     "name": "stdout",
     "output_type": "stream",
     "text": [
      "Starting run...\n",
      "100%\n",
      "\n",
      "Run finished!\n"
     ]
    }
   ],
   "source": [
    "tr_results, tr_clust_ids = cl.find_clusters([281], train_path, util.lunation_center(n), g_gdots=g_gdots,dt=dt,rad=cr)"
   ]
  },
  {
   "cell_type": "code",
   "execution_count": 41,
   "metadata": {},
   "outputs": [],
   "source": [
    "# tr_clust_ids"
   ]
  },
  {
   "cell_type": "code",
   "execution_count": 198,
   "metadata": {},
   "outputs": [],
   "source": [
    "cl = imp.reload(cl)\n",
    "res_dict = cl.get_res_dict(train_path,[281],nside,n)"
   ]
  },
  {
   "cell_type": "code",
   "execution_count": 229,
   "metadata": {},
   "outputs": [],
   "source": [
    "agg_dict = defaultdict(list)\n",
    "for k,v in tr_clust_ids.items():\n",
    "    # k is the tracklet id, v is the cluster id \n",
    "    agg_dict[v].append([tuple([k]+list(i)) for i in res_dict[k]])"
   ]
  },
  {
   "cell_type": "code",
   "execution_count": 231,
   "metadata": {},
   "outputs": [],
   "source": [
    "# agg_dict\n",
    "# "
   ]
  },
  {
   "cell_type": "code",
   "execution_count": null,
   "metadata": {},
   "outputs": [],
   "source": [
    "g,gdot = 0.4,0.0\n",
    "results = []\n",
    "for k, v in agg_dict.items():\n",
    "    cx, mx, cy, my, t0 = full_fit_trkl(t_ref, g, gdot, v)\n",
    "    result = (k, cx, mx, cy, my, t0)\n",
    "    results.append(result)\n",
    "\n"
   ]
  },
  {
   "cell_type": "code",
   "execution_count": 315,
   "metadata": {},
   "outputs": [
    {
     "data": {
      "text/plain": [
       "array([1052, 1050,   43,  443,  245,  122, 1123,   69,  273, 1113,  487,\n",
       "        730,  682,  733,  713,  798,  664,  130,  195,  770,  723,  767,\n",
       "        735,  193,  842,  161,  734, 1275, 1360,  494,  332, 1571, 1362,\n",
       "        855,  794,  440,  302,  190,  314, 1114,  345,  416,  241,  512,\n",
       "        260,  525,  499,  434,  361,  428,  331,  530,  274,  488, 1276,\n",
       "        848, 1595,  853,  385,  306,  394,  445,  469,  478,  337,  412,\n",
       "       1662,  352,  433,  526,  360,  442,  362,  438,  517,  439,  858,\n",
       "        389, 1599,  497,  441, 1714,  492, 1726,  571,  700,  629,  679,\n",
       "        787,  584,  658,  778,  681,  570,  701,  876,  625,   54,  726,\n",
       "        824,  732,  757,  668,  561,  674,  667,  724,  631,  656,  677,\n",
       "        623,  638,  659,  662,  646,  670, 2540,  651,  714,  805,  808,\n",
       "       2555, 2581, 2588,  725,  706,  729,  708,  812,  809,  665,  731,\n",
       "        775,  727,  758,  820,  834,  883,  799,  765,  769,  837, 1472,\n",
       "       1273,  854,  911,  373,  983, 1030, 1009, 1396, 1537,  982,  989,\n",
       "       1534, 1957, 1033, 1040, 1780, 1027, 1082, 2568, 2565, 1175, 1288,\n",
       "       1386, 1180, 1305, 1309, 1560, 1604, 1531, 1524, 1391, 2635, 1488,\n",
       "       1204, 1749, 1380, 1401, 1405, 1381, 1337, 1544, 1369, 1573, 1393,\n",
       "       1419, 1514, 1431, 1438, 1443, 1451, 1464, 1567, 1720, 1593, 1530,\n",
       "       1540, 1601, 1628, 1613, 1626, 1639, 1708, 1747, 1719, 1821, 1650,\n",
       "       1707, 1656, 1661, 1669, 1585, 1818, 1792, 2065, 2113, 2158, 2070,\n",
       "       2146, 2103, 2144, 2075, 2150, 2149, 2151, 2083, 2147, 2123, 2112,\n",
       "       2063, 2111, 2124, 2130, 2171, 2135, 2152, 2159, 2164, 2234, 2288,\n",
       "       2313, 2324, 2352, 2433, 2320, 2381, 2321, 2358, 2439, 2414, 2360,\n",
       "       2365, 2423, 2425, 2440, 2393, 2445, 2359, 2426, 2361, 2436, 2449,\n",
       "       2437, 2487, 2591, 2627, 2577, 2516, 2680, 2660, 2599, 2517, 2579,\n",
       "       2544, 2571, 2608, 2620, 2696, 2720, 2721, 2682, 2708, 2731,   41,\n",
       "         38,  393,  119,  431,  115,  444,  289, 1091,   91,  194,  768,\n",
       "        397,  722, 1092,  772,  125,  776,  718,  802,  283,  313,  317,\n",
       "        470, 1318,  486, 1095,  298,  227,  437,  529,  255, 1596, 1317,\n",
       "        330,  242,  495,  430, 1600, 1483,  148,  270,  429,  490,  508,\n",
       "       1575, 1597,  909,  841,  380,  468,  493,  491,  319,  903, 1289,\n",
       "        328,  343, 1315,  368,  415,  910,  375,  379,  309, 1629,  407,\n",
       "       1711,  414,  450, 1699,  538,  552,  628,  806,  860,  691, 1389,\n",
       "        739,  755,  163,  817, 1715, 2617, 2622,  912, 1343, 1043, 1731,\n",
       "       1017, 1538,  993, 1893, 1581, 1032, 1089, 1264, 2595, 1474, 1411,\n",
       "       1810, 1300, 1374, 1424, 1750, 1355, 1570, 1565, 1441, 1308, 1246,\n",
       "       1713, 1652, 1361, 1664, 1665, 1291, 1421, 1292, 1394, 1589, 1866,\n",
       "       1296, 1781, 1743, 1566, 1203, 1423, 1437, 1520, 1532, 1334, 1345,\n",
       "       1457, 1449, 1554, 1572, 2623, 1663, 1569, 1742, 1804, 1525, 1796,\n",
       "       1397, 2572, 1516, 1529, 1758, 1753, 1548, 1611, 1447, 1523, 1657,\n",
       "       1625, 1690, 1668, 1812, 1784, 1807,  347, 1685, 1703, 1727, 1649,\n",
       "       2169, 2134, 2143, 2116, 2469, 2085, 2157, 2450, 2405, 2161, 2170,\n",
       "       2162, 2156, 2284, 2348, 2413, 2434, 2446, 2410, 2415, 2479, 2491,\n",
       "       2542, 2532, 2548, 2583, 2575, 2558, 2590, 1148, 2593, 2677, 2725,\n",
       "       2694, 2732,    3, 1062,  436,   65,  321,  269,  243,  500,  509,\n",
       "        114,  226,  498,  849, 1096,  204,  460,  520,  518,  238,  969,\n",
       "        427,  456,  513, 1500,  339, 1501, 1299,  449, 1716, 1502, 1383,\n",
       "       1698, 1705, 1712, 1506, 1718,  862,  703,  856,  754, 1363, 2613,\n",
       "       2618, 2633,  904, 1788, 1298, 1783, 1230, 1187, 1752, 1547, 1755,\n",
       "        928, 1339, 1550, 1042, 1029, 1632, 1680, 1370, 1007, 1084, 1916,\n",
       "       1782, 1541, 1041, 1732, 1724, 1791, 1741, 1293, 1683, 1112, 1515,\n",
       "       1130, 1802, 1805, 1709, 1737, 1815, 2638, 1450, 1681, 1559, 1691,\n",
       "       1564, 1789, 1785, 1189, 1454, 1518, 1757, 2247, 1465, 1754, 2249,\n",
       "       1702, 1576, 1700, 1745, 2278, 2252, 1864, 1868, 2306, 1806, 1545,\n",
       "       2641, 2240, 1797, 2304, 1675, 1800, 2264, 2639, 2255, 1418, 1608,\n",
       "       1874, 1786, 1557, 1475, 1609, 1671, 1655, 1736, 1606, 1630, 1553,\n",
       "       2281, 2478, 2452, 2096, 1851, 2438, 2163, 1953, 2122, 2145, 2447,\n",
       "       2007, 1984, 2142, 1045, 2119, 2148, 2197, 2087, 2093, 2104, 2168,\n",
       "       2106, 2166, 2173, 2686, 2424, 2570, 2719, 2735, 2727, 2701, 2707,\n",
       "       2715, 2730,  366,  815, 1008, 1756, 1873, 1778, 1201, 1763, 1347,\n",
       "       2637, 2251, 1799, 1776, 1761, 1584, 1508, 1542, 1990, 2431, 2108,\n",
       "       2138, 2339, 1852, 2388, 2345, 2401, 2039, 1985, 2228, 2160, 2172,\n",
       "       2188, 2229, 2546, 2664, 2364, 2377, 2411, 2456,  560,  627, 1039,\n",
       "        972, 1733, 2045, 2167, 2458, 1925, 2031, 2038, 2129, 2196, 2233,\n",
       "       2218])"
      ]
     },
     "execution_count": 315,
     "metadata": {},
     "output_type": "execute_result"
    }
   ],
   "source": [
    "po = []\n",
    "for k,v in agg_dict.items():\n",
    "    if v!=[]:\n",
    "        po.append(k)\n",
    "np.array(po)"
   ]
  },
  {
   "cell_type": "code",
   "execution_count": 253,
   "metadata": {},
   "outputs": [
    {
     "data": {
      "text/plain": [
       "[('K13CI6G_018', 2457312.746549),\n",
       " ('K13CI6G_018', 2457312.752789),\n",
       " ('K13CI6G_018', 2457312.763969),\n",
       " ('K13CI6G_018', 2457312.768859),\n",
       " ('K13CI6G_018', 2457312.773669),\n",
       " ('K13CI6G_019', 2457314.750439),\n",
       " ('K13CI6G_019', 2457314.756469),\n",
       " ('K13CI6G_019', 2457314.761319),\n",
       " ('K13CI6G_019', 2457314.766039),\n",
       " ('K13CI6G_019', 2457314.770859),\n",
       " ('K13CI6G_020', 2457316.858239),\n",
       " ('K13CI6G_020', 2457316.869239),\n",
       " ('K13CI6G_020', 2457316.880229),\n",
       " ('K13CI6G_020', 2457316.891239)]"
      ]
     },
     "execution_count": 253,
     "metadata": {},
     "output_type": "execute_result"
    }
   ],
   "source": [
    "a_obs3 = [itm for ob in agg_dict[1052] for itm in ob]\n",
    "# [i[0] for i in a_obs3])\n",
    "sorted([(i[0],i[1]) for i in a_obs3],key=lambda x: x[1])"
   ]
  },
  {
   "cell_type": "code",
   "execution_count": 37,
   "metadata": {},
   "outputs": [
    {
     "name": "stdout",
     "output_type": "stream",
     "text": [
      "We have 16 observations in cluster id 3\n"
     ]
    }
   ],
   "source": [
    "print('We have {} observations in cluster id 3'.format(len(a_obs3)))"
   ]
  },
  {
   "cell_type": "code",
   "execution_count": 91,
   "metadata": {},
   "outputs": [
    {
     "name": "stdout",
     "output_type": "stream",
     "text": [
      "[-0.32652778  1.        ] [[ inf  inf]\n",
      " [ inf  inf]]\n"
     ]
    },
    {
     "name": "stderr",
     "output_type": "stream",
     "text": [
      "/Users/paulblankley/anaconda3/lib/python3.6/site-packages/scipy/optimize/minpack.py:785: OptimizeWarning: Covariance of the parameters could not be estimated\n",
      "  category=OptimizeWarning)\n"
     ]
    }
   ],
   "source": [
    "from scipy.optimize import curve_fit\n",
    "def getXval():\n",
    "    a = 4; b = 3; c = 1;\n",
    "    f0 = a*b**2*c\n",
    "    f1 = a*b/c\n",
    "    return np.array([f0, f1])\n",
    "\n",
    "def fit(x, a0, a1):\n",
    "    res = a0*x[0] + a1*x[1]\n",
    "    return np.array([res])\n",
    "\n",
    "x = getXval()\n",
    "y = np.array([0.15, 0.34])\n",
    "popt, pcov = curve_fit(fit, x, y)\n",
    "print(popt, pcov)"
   ]
  },
  {
   "cell_type": "code",
   "execution_count": null,
   "metadata": {},
   "outputs": [],
   "source": []
  },
  {
   "cell_type": "code",
   "execution_count": 300,
   "metadata": {},
   "outputs": [
    {
     "name": "stdout",
     "output_type": "stream",
     "text": [
      "Avg reference time: 2457314.6507075713\n",
      "init [-0.04021425  0.00452398 -0.07850673 -0.00099668  0.4         0.        ]\n",
      "diff [0.022333485375738839, 0.00073824535097452787, 0.0090990351869454922, 0.00046239809013203133, 0.021121540670667183, 0.0027938034883624955]\n",
      "everything       fun: 1.5383269050734907e-10\n",
      " hess_inv: array([[  1.21634421e-01,  -3.54864358e-01,   5.94293953e-02,\n",
      "         -4.40067465e-01,   5.22756850e-01,   3.14227272e+00],\n",
      "       [ -3.54864358e-01,   2.77697995e+00,  -2.09716773e-01,\n",
      "          3.37165465e+00,  -2.24029936e+00,  -2.41106345e+01],\n",
      "       [  5.94293953e-02,  -2.09716773e-01,   4.67195305e-02,\n",
      "         -2.58992546e-01,   2.93437521e-01,   1.85083349e+00],\n",
      "       [ -4.40067465e-01,   3.37165465e+00,  -2.58992546e-01,\n",
      "          4.10742475e+00,  -2.75549828e+00,  -2.93352292e+01],\n",
      "       [  5.22756850e-01,  -2.24029936e+00,   2.93437521e-01,\n",
      "         -2.75549828e+00,   2.70243395e+00,   1.96887960e+01],\n",
      "       [  3.14227272e+00,  -2.41106345e+01,   1.85083349e+00,\n",
      "         -2.93352292e+01,   1.96887960e+01,   2.09771827e+02]])\n",
      "      jac: array([ -8.19267900e-06,   1.55053719e-05,   6.08052645e-06,\n",
      "        -1.43423611e-05,   1.27644356e-06,  -3.69885729e-07])\n",
      "  message: 'Desired error not necessarily achieved due to precision loss.'\n",
      "     nfev: 788\n",
      "      nit: 17\n",
      "     njev: 97\n",
      "   status: 2\n",
      "  success: False\n",
      "        x: array([-0.01788076,  0.00378573, -0.08760577, -0.00145908,  0.37887846,\n",
      "        0.0027938 ])\n"
     ]
    }
   ],
   "source": [
    "g,gdot = 0.4,0.0\n",
    "idx = 1052\n",
    "cl = imp.reload(cl)\n",
    "params, loss_val, chisq, chisq_arr = cl.full_fit_t_loss(util.lunation_center(n), g, gdot, agg_dict[idx])"
   ]
  },
  {
   "cell_type": "code",
   "execution_count": 301,
   "metadata": {},
   "outputs": [
    {
     "data": {
      "text/plain": [
       "162.60746341021454"
      ]
     },
     "execution_count": 301,
     "metadata": {},
     "output_type": "execute_result"
    }
   ],
   "source": [
    "chisq"
   ]
  },
  {
   "cell_type": "code",
   "execution_count": 302,
   "metadata": {},
   "outputs": [
    {
     "data": {
      "text/plain": [
       "2457308.5"
      ]
     },
     "execution_count": 302,
     "metadata": {},
     "output_type": "execute_result"
    }
   ],
   "source": [
    "util.lunation_center(-14)"
   ]
  },
  {
   "cell_type": "code",
   "execution_count": 303,
   "metadata": {},
   "outputs": [
    {
     "data": {
      "text/plain": [
       "[('K13CI6G_020', 2457316.858239, 1.0616507838435021),\n",
       " ('K13CI6G_020', 2457316.869239, 3.0435943296340371),\n",
       " ('K13CI6G_020', 2457316.880229, 13.257881544457085),\n",
       " ('K13CI6G_020', 2457316.891239, 13.862686759460184),\n",
       " ('K13CI6G_019', 2457314.750439, 22.599695682679034),\n",
       " ('K13CI6G_019', 2457314.756469, 11.574690019297119),\n",
       " ('K13CI6G_019', 2457314.761319, 11.230517489666772),\n",
       " ('K13CI6G_019', 2457314.766039, 29.293761828592512),\n",
       " ('K13CI6G_019', 2457314.770859, 19.223802692687457),\n",
       " ('K13CI6G_018', 2457312.746549, 3.5152703301209791),\n",
       " ('K13CI6G_018', 2457312.752789, 6.019131773639212),\n",
       " ('K13CI6G_018', 2457312.763969, 7.1172235746534387),\n",
       " ('K13CI6G_018', 2457312.768859, 17.668164803687581),\n",
       " ('K13CI6G_018', 2457312.773669, 3.1393917977956316)]"
      ]
     },
     "execution_count": 303,
     "metadata": {},
     "output_type": "execute_result"
    }
   ],
   "source": [
    "a_obs = [ob for trkl in agg_dict[idx] for ob in trkl]\n",
    "[(ob[0],ob[1],ch) for ob,ch in zip(a_obs,chisq_arr)]"
   ]
  },
  {
   "cell_type": "code",
   "execution_count": 313,
   "metadata": {},
   "outputs": [
    {
     "data": {
      "text/plain": [
       "[]"
      ]
     },
     "execution_count": 313,
     "metadata": {},
     "output_type": "execute_result"
    }
   ],
   "source": [
    "agg_dict[12]"
   ]
  },
  {
   "cell_type": "code",
   "execution_count": 338,
   "metadata": {},
   "outputs": [],
   "source": [
    "cl = imp.reload(cl)\n",
    "par_results  = {}\n",
    "g,gdot = 0.4,0.0\n",
    "idxs = [1052,443,1815,560,776,2449]\n",
    "for idx in po:\n",
    "    all_res = = cl.full_fit_t_loss(util.lunation_center(n), g, gdot, agg_dict[idx])\n",
    "    par_results[idx] = all_res[0]\n",
    "    "
   ]
  },
  {
   "cell_type": "code",
   "execution_count": 344,
   "metadata": {},
   "outputs": [
    {
     "data": {
      "image/png": "[encoded data removed]",
      "text/plain": [
       "<matplotlib.figure.Figure at 0x121ff3390>"
      ]
     },
     "metadata": {},
     "output_type": "display_data"
    }
   ],
   "source": [
    "cl = imp.reload(cl)\n",
    "cl.visualize(par_results,agg_dict,po,util.lunation_center(n))"
   ]
  },
  {
   "cell_type": "code",
   "execution_count": 193,
   "metadata": {},
   "outputs": [],
   "source": [
    "g,gdot = 0.4,0.0\n",
    "cl = imp.reload(cl)\n",
    "# par3 = cl.full_fit_trkl(util.lunation_center(n),g,gdot,a_obs3)"
   ]
  },
  {
   "cell_type": "code",
   "execution_count": 197,
   "metadata": {},
   "outputs": [
    {
     "data": {
      "text/plain": [
       "0.012003235835689517"
      ]
     },
     "execution_count": 197,
     "metadata": {},
     "output_type": "execute_result"
    }
   ],
   "source": [
    "chisq"
   ]
  },
  {
   "cell_type": "code",
   "execution_count": 195,
   "metadata": {},
   "outputs": [
    {
     "name": "stdout",
     "output_type": "stream",
     "text": [
      "59.1\n",
      "0.0\n"
     ]
    },
    {
     "data": {
      "text/plain": [
       "5.0"
      ]
     },
     "execution_count": 195,
     "metadata": {},
     "output_type": "execute_result"
    }
   ],
   "source": [
    "def fun(a):\n",
    "    b=1\n",
    "    global chi\n",
    "    chi = 0.0\n",
    "    def fr(a,b):\n",
    "    \n",
    "        chi= a+b/2.0*112.2\n",
    "        print(chi)\n",
    "        return a+b\n",
    "    fr(a,b)\n",
    "    print(chi)\n",
    "    return a/b+2.\n",
    "\n",
    "fun(3)"
   ]
  },
  {
   "cell_type": "code",
   "execution_count": null,
   "metadata": {},
   "outputs": [],
   "source": []
  }
 ],
 "metadata": {
  "kernelspec": {
   "display_name": "Python 3",
   "language": "python",
   "name": "python3"
  },
  "language_info": {
   "codemirror_mode": {
    "name": "ipython",
    "version": 3
   },
   "file_extension": ".py",
   "mimetype": "text/x-python",
   "name": "python",
   "nbconvert_exporter": "python",
   "pygments_lexer": "ipython3",
   "version": "3.6.2"
  }
 },
 "nbformat": 4,
 "nbformat_minor": 2
}
