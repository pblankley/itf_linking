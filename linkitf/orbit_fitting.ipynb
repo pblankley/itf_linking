{
 "cells": [
  {
   "cell_type": "code",
   "execution_count": 22,
   "metadata": {},
   "outputs": [],
   "source": [
    "import numpy as np\n",
    "import matplotlib.pyplot as plt\n",
    "import clustering as cl\n",
    "import util\n",
    "import healpy as hp\n",
    "import importlib as imp\n",
    "from collections import defaultdict\n",
    "\n",
    "%matplotlib inline "
   ]
  },
  {
   "cell_type": "code",
   "execution_count": 2,
   "metadata": {},
   "outputs": [],
   "source": [
    "# Global parameters\n",
    "gs = [0.4]\n",
    "gdots = [-0.004, -0.002, 0.0, 0.002, 0.004]\n",
    "g_gdots = [(x,y) for x in gs for y in gdots]\n",
    "\n",
    "nside=8\n",
    "n = -14\n",
    "dt=15.0\n",
    "cr=0.00124\n",
    "pixels=range(hp.nside2npix(nside))\n",
    "\n",
    "train_path = 'demo_train/UnnObs_Training_1_line_A_ec_labelled_2457308.5_pm15.0_r2.5.trans'\n",
    "itf_path = 'demo_itf/itf_new_1_line_ec_2457308.5_pm15.0_r2.5.trans'\n"
   ]
  },
  {
   "cell_type": "code",
   "execution_count": null,
   "metadata": {},
   "outputs": [],
   "source": []
  },
  {
   "cell_type": "code",
   "execution_count": 9,
   "metadata": {},
   "outputs": [
    {
     "name": "stdout",
     "output_type": "stream",
     "text": [
      "True count of clusters: 890\n",
      "Starting run...\n",
      "100%\n",
      "\n",
      "Run finished!\n",
      "Using our optimal parameters we got 0.7842696629213484 percent of clusters with 0.0056179775280898875 percent errors.\n",
      "We got 698 right and 5 wrong out of total 890\n"
     ]
    }
   ],
   "source": [
    "true_count_set, mergedCounter_dict, mergedTime_dict = cl.accessible_clusters(pixels, infilename=train_path)\n",
    "true_count = len(true_count_set)\n",
    "print('True count of clusters: {}'.format(true_count))\n",
    "\n",
    "right, wrong, ids_right, ids_wrong = cl.test_clusters(pixels, train_path, util.lunation_center(n), \\\n",
    "                                                    dt=dt,rad=cr)\n",
    "\n",
    "print('Using our optimal parameters we got {0} percent of clusters with {1} percent errors.'.format(right/true_count,wrong/true_count))\n",
    "print('We got',right,'right and',wrong,'wrong out of total',true_count)"
   ]
  },
  {
   "cell_type": "code",
   "execution_count": 18,
   "metadata": {},
   "outputs": [
    {
     "name": "stdout",
     "output_type": "stream",
     "text": [
      "Starting run...\n",
      "100%\n",
      "\n",
      "Run finished!\n"
     ]
    }
   ],
   "source": [
    "tr_results, tr_clust_ids = cl.find_clusters([281], train_path, util.lunation_center(n), g_gdots=g_gdots,dt=dt,rad=cr)"
   ]
  },
  {
   "cell_type": "code",
   "execution_count": 41,
   "metadata": {},
   "outputs": [],
   "source": [
    "# tr_clust_ids"
   ]
  },
  {
   "cell_type": "code",
   "execution_count": 198,
   "metadata": {},
   "outputs": [],
   "source": [
    "cl = imp.reload(cl)\n",
    "res_dict = cl.get_res_dict(train_path,[281],nside,n)"
   ]
  },
  {
   "cell_type": "code",
   "execution_count": 29,
   "metadata": {},
   "outputs": [],
   "source": [
    "agg_dict = defaultdict(list)\n",
    "for k,v in tr_clust_ids.items():\n",
    "    # k is the tracklet id, v is the cluster id \n",
    "    agg_dict[v].append(res_dict[k])"
   ]
  },
  {
   "cell_type": "code",
   "execution_count": 40,
   "metadata": {},
   "outputs": [],
   "source": [
    "# agg_dict"
   ]
  },
  {
   "cell_type": "code",
   "execution_count": null,
   "metadata": {},
   "outputs": [],
   "source": [
    "g,gdot = 0.4,0.0\n",
    "results = []\n",
    "for k, v in agg_dict.items():\n",
    "    cx, mx, cy, my, t0 = full_fit_trkl(t_ref, g, gdot, v)\n",
    "    result = (k, cx, mx, cy, my, t0)\n",
    "    results.append(result)\n",
    "\n"
   ]
  },
  {
   "cell_type": "code",
   "execution_count": 34,
   "metadata": {},
   "outputs": [],
   "source": [
    "a_obs3 = [itm for ob in agg_dict[3] for itm in ob]"
   ]
  },
  {
   "cell_type": "code",
   "execution_count": 37,
   "metadata": {},
   "outputs": [
    {
     "name": "stdout",
     "output_type": "stream",
     "text": [
      "We have 16 observations in cluster id 3\n"
     ]
    }
   ],
   "source": [
    "print('We have {} observations in cluster id 3'.format(len(a_obs3)))"
   ]
  },
  {
   "cell_type": "code",
   "execution_count": 91,
   "metadata": {},
   "outputs": [
    {
     "name": "stdout",
     "output_type": "stream",
     "text": [
      "[-0.32652778  1.        ] [[ inf  inf]\n",
      " [ inf  inf]]\n"
     ]
    },
    {
     "name": "stderr",
     "output_type": "stream",
     "text": [
      "/Users/paulblankley/anaconda3/lib/python3.6/site-packages/scipy/optimize/minpack.py:785: OptimizeWarning: Covariance of the parameters could not be estimated\n",
      "  category=OptimizeWarning)\n"
     ]
    }
   ],
   "source": [
    "from scipy.optimize import curve_fit\n",
    "def getXval():\n",
    "    a = 4; b = 3; c = 1;\n",
    "    f0 = a*b**2*c\n",
    "    f1 = a*b/c\n",
    "    return np.array([f0, f1])\n",
    "\n",
    "def fit(x, a0, a1):\n",
    "    res = a0*x[0] + a1*x[1]\n",
    "    return np.array([res])\n",
    "\n",
    "x = getXval()\n",
    "y = np.array([0.15, 0.34])\n",
    "popt, pcov = curve_fit(fit, x, y)\n",
    "print(popt, pcov)"
   ]
  },
  {
   "cell_type": "code",
   "execution_count": 196,
   "metadata": {},
   "outputs": [],
   "source": [
    "g,gdot = 0.4,0.0\n",
    "cl = imp.reload(cl)\n",
    "params, loss_val, chisq = cl.full_fit_t_loss(util.lunation_center(n), g, gdot, a_obs3)"
   ]
  },
  {
   "cell_type": "code",
   "execution_count": null,
   "metadata": {},
   "outputs": [],
   "source": []
  },
  {
   "cell_type": "code",
   "execution_count": 193,
   "metadata": {},
   "outputs": [],
   "source": [
    "g,gdot = 0.4,0.0\n",
    "cl = imp.reload(cl)\n",
    "# par3 = cl.full_fit_trkl(util.lunation_center(n),g,gdot,a_obs3)"
   ]
  },
  {
   "cell_type": "code",
   "execution_count": 197,
   "metadata": {},
   "outputs": [
    {
     "data": {
      "text/plain": [
       "0.012003235835689517"
      ]
     },
     "execution_count": 197,
     "metadata": {},
     "output_type": "execute_result"
    }
   ],
   "source": [
    "chisq"
   ]
  },
  {
   "cell_type": "code",
   "execution_count": 195,
   "metadata": {},
   "outputs": [
    {
     "name": "stdout",
     "output_type": "stream",
     "text": [
      "59.1\n",
      "0.0\n"
     ]
    },
    {
     "data": {
      "text/plain": [
       "5.0"
      ]
     },
     "execution_count": 195,
     "metadata": {},
     "output_type": "execute_result"
    }
   ],
   "source": [
    "def fun(a):\n",
    "    b=1\n",
    "    global chi\n",
    "    chi = 0.0\n",
    "    def fr(a,b):\n",
    "    \n",
    "        chi= a+b/2.0*112.2\n",
    "        print(chi)\n",
    "        return a+b\n",
    "    fr(a,b)\n",
    "    print(chi)\n",
    "    return a/b+2.\n",
    "\n",
    "fun(3)"
   ]
  },
  {
   "cell_type": "code",
   "execution_count": null,
   "metadata": {},
   "outputs": [],
   "source": []
  }
 ],
 "metadata": {
  "kernelspec": {
   "display_name": "Python 3",
   "language": "python",
   "name": "python3"
  },
  "language_info": {
   "codemirror_mode": {
    "name": "ipython",
    "version": 3
   },
   "file_extension": ".py",
   "mimetype": "text/x-python",
   "name": "python",
   "nbconvert_exporter": "python",
   "pygments_lexer": "ipython3",
   "version": "3.6.2"
  }
 },
 "nbformat": 4,
 "nbformat_minor": 2
}
